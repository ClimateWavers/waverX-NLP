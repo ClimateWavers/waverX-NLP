{
 "cells": [
  {
   "cell_type": "markdown",
   "id": "787e90d6-1ddc-44f3-a529-fbf058400be5",
   "metadata": {},
   "source": [
    "## Test our Model Server Endpoints"
   ]
  },
  {
   "cell_type": "code",
   "execution_count": 1,
   "id": "0871c4b6-e064-481d-b543-e7c069b3eb20",
   "metadata": {},
   "outputs": [
    {
     "name": "stdout",
     "output_type": "stream",
     "text": [
      "{\"status\":\"OK\"}\n"
     ]
    }
   ],
   "source": [
    "!curl http://localhost:5000/api/v1/nlp/model/waverx/status"
   ]
  },
  {
   "cell_type": "code",
   "execution_count": null,
   "id": "770df77b-fe08-4a79-b1fa-9739e94a1066",
   "metadata": {},
   "outputs": [],
   "source": [
    "!curl -X POST http://localhost:5000/api/v1/nlp/model/waverx -d \"text=Earthquake here\""
   ]
  },
  {
   "cell_type": "code",
   "execution_count": null,
   "id": "83c19b59-4db6-4112-8abc-631728e6d7ae",
   "metadata": {},
   "outputs": [],
   "source": []
  }
 ],
 "metadata": {
  "kernelspec": {
   "display_name": "Python 3 (ipykernel)",
   "language": "python",
   "name": "python3"
  },
  "language_info": {
   "codemirror_mode": {
    "name": "ipython",
    "version": 3
   },
   "file_extension": ".py",
   "mimetype": "text/x-python",
   "name": "python",
   "nbconvert_exporter": "python",
   "pygments_lexer": "ipython3",
   "version": "3.9.5"
  }
 },
 "nbformat": 4,
 "nbformat_minor": 5
}
